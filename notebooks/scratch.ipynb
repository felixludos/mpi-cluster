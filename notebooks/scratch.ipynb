{
 "cells": [
  {
   "cell_type": "code",
   "execution_count": 2,
   "id": "initial_id",
   "metadata": {
    "ExecuteTime": {
     "end_time": "2023-09-25T09:28:10.102338720Z",
     "start_time": "2023-09-25T09:28:10.060006688Z"
    },
    "collapsed": true
   },
   "outputs": [],
   "source": [
    "from pathlib import Path\n",
    "import omnifig as fig"
   ]
  },
  {
   "cell_type": "code",
   "execution_count": 4,
   "id": "4d39bc558ea505c",
   "metadata": {
    "ExecuteTime": {
     "end_time": "2023-09-25T09:28:20.344886920Z",
     "start_time": "2023-09-25T09:28:20.326023544Z"
    },
    "collapsed": false
   },
   "outputs": [],
   "source": [
    "cfg = fig.create_config(test='test', test2=Path('test2'))"
   ]
  },
  {
   "cell_type": "code",
   "execution_count": 5,
   "id": "dba7642cda74c5a8",
   "metadata": {
    "ExecuteTime": {
     "end_time": "2023-09-25T09:53:37.430600138Z",
     "start_time": "2023-09-25T09:53:37.389061452Z"
    },
    "collapsed": false
   },
   "outputs": [
    {
     "name": "stdout",
     "output_type": "stream",
     "text": [
      "| test: 'test'\n"
     ]
    },
    {
     "data": {
      "text/plain": [
       "'test'"
      ]
     },
     "execution_count": 5,
     "metadata": {},
     "output_type": "execute_result"
    }
   ],
   "source": [
    "test = cfg.pull('test')\n",
    "test"
   ]
  },
  {
   "cell_type": "code",
   "execution_count": 6,
   "id": "e69eabc27b5ab",
   "metadata": {
    "ExecuteTime": {
     "end_time": "2023-09-25T09:53:43.273108352Z",
     "start_time": "2023-09-25T09:53:43.265044134Z"
    },
    "collapsed": false
   },
   "outputs": [
    {
     "name": "stdout",
     "output_type": "stream",
     "text": [
      "| test2: PosixPath('test2')\n"
     ]
    },
    {
     "data": {
      "text/plain": [
       "PosixPath('test2')"
      ]
     },
     "execution_count": 6,
     "metadata": {},
     "output_type": "execute_result"
    }
   ],
   "source": [
    "test2 = cfg.pull('test2')\n",
    "test2"
   ]
  },
  {
   "cell_type": "code",
   "execution_count": 7,
   "id": "32ec5851ed87df39",
   "metadata": {
    "ExecuteTime": {
     "end_time": "2023-09-25T09:54:28.114632321Z",
     "start_time": "2023-09-25T09:54:28.073243229Z"
    },
    "collapsed": false
   },
   "outputs": [
    {
     "name": "stdout",
     "output_type": "stream",
     "text": [
      "| test3: PosixPath('test3') (by default)\n"
     ]
    },
    {
     "data": {
      "text/plain": [
       "PosixPath('test3')"
      ]
     },
     "execution_count": 7,
     "metadata": {},
     "output_type": "execute_result"
    }
   ],
   "source": [
    "test3 = cfg.pull('test3', Path('test3'))\n",
    "test3"
   ]
  },
  {
   "cell_type": "code",
   "execution_count": 1,
   "id": "b0c34808ab2a56a9",
   "metadata": {
    "ExecuteTime": {
     "end_time": "2023-09-25T09:27:27.019881688Z",
     "start_time": "2023-09-25T09:27:27.019354391Z"
    },
    "collapsed": false
   },
   "outputs": [],
   "source": [
    "from omnibelt import load_json, save_json"
   ]
  },
  {
   "cell_type": "code",
   "execution_count": 12,
   "id": "822cbe9f90cba13d",
   "metadata": {
    "collapsed": false
   },
   "outputs": [],
   "source": [
    "tmp = Path('tmp.jsonl')\n",
    "with open(tmp, 'w') as f:\n",
    "    f.write('')"
   ]
  },
  {
   "cell_type": "code",
   "execution_count": 13,
   "id": "e7c3363f",
   "metadata": {},
   "outputs": [
    {
     "ename": "TypeError",
     "evalue": "JSONEncoder.__init__() got an unexpected keyword argument 'append'",
     "output_type": "error",
     "traceback": [
      "\u001B[0;31m---------------------------------------------------------------------------\u001B[0m",
      "\u001B[0;31mTypeError\u001B[0m                                 Traceback (most recent call last)",
      "\u001B[1;32m/home/fleeb/workspace/code/mpi-cluster/notebooks/scratch.ipynb Cell 8\u001B[0m line \u001B[0;36m5\n\u001B[1;32m      <a href='vscode-notebook-cell:/home/fleeb/workspace/code/mpi-cluster/notebooks/scratch.ipynb#X10sZmlsZQ%3D%3D?line=0'>1</a>\u001B[0m \u001B[39mfor\u001B[39;00m i \u001B[39min\u001B[39;00m \u001B[39mrange\u001B[39m(\u001B[39m4\u001B[39m):\n\u001B[1;32m      <a href='vscode-notebook-cell:/home/fleeb/workspace/code/mpi-cluster/notebooks/scratch.ipynb#X10sZmlsZQ%3D%3D?line=1'>2</a>\u001B[0m     \u001B[39mwith\u001B[39;00m tmp\u001B[39m.\u001B[39mopen(\u001B[39m'\u001B[39m\u001B[39ma\u001B[39m\u001B[39m'\u001B[39m) \u001B[39mas\u001B[39;00m f:\n\u001B[1;32m      <a href='vscode-notebook-cell:/home/fleeb/workspace/code/mpi-cluster/notebooks/scratch.ipynb#X10sZmlsZQ%3D%3D?line=2'>3</a>\u001B[0m         \u001B[39m# data = {\"test\": 1, \"test2\": 'something'}\u001B[39;00m\n\u001B[1;32m      <a href='vscode-notebook-cell:/home/fleeb/workspace/code/mpi-cluster/notebooks/scratch.ipynb#X10sZmlsZQ%3D%3D?line=3'>4</a>\u001B[0m         \u001B[39m# f.write(f'{data}\\n')\u001B[39;00m\n\u001B[0;32m----> <a href='vscode-notebook-cell:/home/fleeb/workspace/code/mpi-cluster/notebooks/scratch.ipynb#X10sZmlsZQ%3D%3D?line=4'>5</a>\u001B[0m         save_json(f, {\u001B[39m\"\u001B[39;49m\u001B[39mtest\u001B[39;49m\u001B[39m\"\u001B[39;49m: \u001B[39m1\u001B[39;49m, \u001B[39m\"\u001B[39;49m\u001B[39mtest2\u001B[39;49m\u001B[39m\"\u001B[39;49m: \u001B[39m'\u001B[39;49m\u001B[39msomething\u001B[39;49m\u001B[39m'\u001B[39;49m}, append\u001B[39m=\u001B[39;49m\u001B[39mTrue\u001B[39;49;00m)\n",
      "File \u001B[0;32m~/workspace/code/belt/omnibelt/filesystem.py:78\u001B[0m, in \u001B[0;36msave_json\u001B[0;34m(data, path, **kwargs)\u001B[0m\n\u001B[1;32m     76\u001B[0m path \u001B[39m=\u001B[39m \u001B[39mstr\u001B[39m(path)\n\u001B[1;32m     77\u001B[0m \u001B[39mwith\u001B[39;00m \u001B[39mopen\u001B[39m(path, \u001B[39m'\u001B[39m\u001B[39mw\u001B[39m\u001B[39m'\u001B[39m) \u001B[39mas\u001B[39;00m f:\n\u001B[0;32m---> 78\u001B[0m \t\u001B[39mreturn\u001B[39;00m json\u001B[39m.\u001B[39;49mdump(data, f, \u001B[39m*\u001B[39;49m\u001B[39m*\u001B[39;49mkwargs)\n",
      "File \u001B[0;32m~/miniconda3/lib/python3.11/json/__init__.py:173\u001B[0m, in \u001B[0;36mdump\u001B[0;34m(obj, fp, skipkeys, ensure_ascii, check_circular, allow_nan, cls, indent, separators, default, sort_keys, **kw)\u001B[0m\n\u001B[1;32m    171\u001B[0m     \u001B[39mif\u001B[39;00m \u001B[39mcls\u001B[39m \u001B[39mis\u001B[39;00m \u001B[39mNone\u001B[39;00m:\n\u001B[1;32m    172\u001B[0m         \u001B[39mcls\u001B[39m \u001B[39m=\u001B[39m JSONEncoder\n\u001B[0;32m--> 173\u001B[0m     iterable \u001B[39m=\u001B[39m \u001B[39mcls\u001B[39;49m(skipkeys\u001B[39m=\u001B[39;49mskipkeys, ensure_ascii\u001B[39m=\u001B[39;49mensure_ascii,\n\u001B[1;32m    174\u001B[0m         check_circular\u001B[39m=\u001B[39;49mcheck_circular, allow_nan\u001B[39m=\u001B[39;49mallow_nan, indent\u001B[39m=\u001B[39;49mindent,\n\u001B[1;32m    175\u001B[0m         separators\u001B[39m=\u001B[39;49mseparators,\n\u001B[1;32m    176\u001B[0m         default\u001B[39m=\u001B[39;49mdefault, sort_keys\u001B[39m=\u001B[39;49msort_keys, \u001B[39m*\u001B[39;49m\u001B[39m*\u001B[39;49mkw)\u001B[39m.\u001B[39miterencode(obj)\n\u001B[1;32m    177\u001B[0m \u001B[39m# could accelerate with writelines in some versions of Python, at\u001B[39;00m\n\u001B[1;32m    178\u001B[0m \u001B[39m# a debuggability cost\u001B[39;00m\n\u001B[1;32m    179\u001B[0m \u001B[39mfor\u001B[39;00m chunk \u001B[39min\u001B[39;00m iterable:\n",
      "\u001B[0;31mTypeError\u001B[0m: JSONEncoder.__init__() got an unexpected keyword argument 'append'"
     ]
    }
   ],
   "source": [
    "for i in range(4):\n",
    "    with tmp.open('a') as f:\n",
    "        data = {\"test\": 1, \"test2\": 'something'}\n",
    "        f.write(f'{data}\\n')\n",
    "        # save_json(f, {\"test\": 1, \"test2\": 'something'}, append=True)"
   ]
  },
  {
   "cell_type": "code",
   "execution_count": 11,
   "id": "9439de6d",
   "metadata": {},
   "outputs": [
    {
     "name": "stdout",
     "output_type": "stream",
     "text": [
      "\n"
     ]
    }
   ],
   "source": [
    "print(tmp.read_text())"
   ]
  },
  {
   "cell_type": "code",
   "execution_count": 5,
   "id": "d1a7f344",
   "metadata": {},
   "outputs": [
    {
     "ename": "JSONDecodeError",
     "evalue": "Expecting property name enclosed in double quotes: line 1 column 2 (char 1)",
     "output_type": "error",
     "traceback": [
      "\u001B[0;31m---------------------------------------------------------------------------\u001B[0m",
      "\u001B[0;31mJSONDecodeError\u001B[0m                           Traceback (most recent call last)",
      "\u001B[1;32m/home/fleeb/workspace/code/mpi-cluster/notebooks/scratch.ipynb Cell 9\u001B[0m line \u001B[0;36m1\n\u001B[0;32m----> <a href='vscode-notebook-cell:/home/fleeb/workspace/code/mpi-cluster/notebooks/scratch.ipynb#X11sZmlsZQ%3D%3D?line=0'>1</a>\u001B[0m info \u001B[39m=\u001B[39m load_json(tmp)\n\u001B[1;32m      <a href='vscode-notebook-cell:/home/fleeb/workspace/code/mpi-cluster/notebooks/scratch.ipynb#X11sZmlsZQ%3D%3D?line=1'>2</a>\u001B[0m info\n",
      "File \u001B[0;32m~/workspace/code/belt/omnibelt/filesystem.py:73\u001B[0m, in \u001B[0;36mload_json\u001B[0;34m(path, **kwargs)\u001B[0m\n\u001B[1;32m     71\u001B[0m path \u001B[39m=\u001B[39m \u001B[39mstr\u001B[39m(path)\n\u001B[1;32m     72\u001B[0m \u001B[39mwith\u001B[39;00m \u001B[39mopen\u001B[39m(path, \u001B[39m'\u001B[39m\u001B[39mr\u001B[39m\u001B[39m'\u001B[39m) \u001B[39mas\u001B[39;00m f:\n\u001B[0;32m---> 73\u001B[0m \t\u001B[39mreturn\u001B[39;00m json\u001B[39m.\u001B[39;49mload(f, \u001B[39m*\u001B[39;49m\u001B[39m*\u001B[39;49mkwargs)\n",
      "File \u001B[0;32m~/miniconda3/lib/python3.11/json/__init__.py:293\u001B[0m, in \u001B[0;36mload\u001B[0;34m(fp, cls, object_hook, parse_float, parse_int, parse_constant, object_pairs_hook, **kw)\u001B[0m\n\u001B[1;32m    274\u001B[0m \u001B[39mdef\u001B[39;00m \u001B[39mload\u001B[39m(fp, \u001B[39m*\u001B[39m, \u001B[39mcls\u001B[39m\u001B[39m=\u001B[39m\u001B[39mNone\u001B[39;00m, object_hook\u001B[39m=\u001B[39m\u001B[39mNone\u001B[39;00m, parse_float\u001B[39m=\u001B[39m\u001B[39mNone\u001B[39;00m,\n\u001B[1;32m    275\u001B[0m         parse_int\u001B[39m=\u001B[39m\u001B[39mNone\u001B[39;00m, parse_constant\u001B[39m=\u001B[39m\u001B[39mNone\u001B[39;00m, object_pairs_hook\u001B[39m=\u001B[39m\u001B[39mNone\u001B[39;00m, \u001B[39m*\u001B[39m\u001B[39m*\u001B[39mkw):\n\u001B[1;32m    276\u001B[0m \u001B[39m    \u001B[39m\u001B[39m\"\"\"Deserialize ``fp`` (a ``.read()``-supporting file-like object containing\u001B[39;00m\n\u001B[1;32m    277\u001B[0m \u001B[39m    a JSON document) to a Python object.\u001B[39;00m\n\u001B[1;32m    278\u001B[0m \n\u001B[0;32m   (...)\u001B[0m\n\u001B[1;32m    291\u001B[0m \u001B[39m    kwarg; otherwise ``JSONDecoder`` is used.\u001B[39;00m\n\u001B[1;32m    292\u001B[0m \u001B[39m    \"\"\"\u001B[39;00m\n\u001B[0;32m--> 293\u001B[0m     \u001B[39mreturn\u001B[39;00m loads(fp\u001B[39m.\u001B[39;49mread(),\n\u001B[1;32m    294\u001B[0m         \u001B[39mcls\u001B[39;49m\u001B[39m=\u001B[39;49m\u001B[39mcls\u001B[39;49m, object_hook\u001B[39m=\u001B[39;49mobject_hook,\n\u001B[1;32m    295\u001B[0m         parse_float\u001B[39m=\u001B[39;49mparse_float, parse_int\u001B[39m=\u001B[39;49mparse_int,\n\u001B[1;32m    296\u001B[0m         parse_constant\u001B[39m=\u001B[39;49mparse_constant, object_pairs_hook\u001B[39m=\u001B[39;49mobject_pairs_hook, \u001B[39m*\u001B[39;49m\u001B[39m*\u001B[39;49mkw)\n",
      "File \u001B[0;32m~/miniconda3/lib/python3.11/json/__init__.py:346\u001B[0m, in \u001B[0;36mloads\u001B[0;34m(s, cls, object_hook, parse_float, parse_int, parse_constant, object_pairs_hook, **kw)\u001B[0m\n\u001B[1;32m    341\u001B[0m     s \u001B[39m=\u001B[39m s\u001B[39m.\u001B[39mdecode(detect_encoding(s), \u001B[39m'\u001B[39m\u001B[39msurrogatepass\u001B[39m\u001B[39m'\u001B[39m)\n\u001B[1;32m    343\u001B[0m \u001B[39mif\u001B[39;00m (\u001B[39mcls\u001B[39m \u001B[39mis\u001B[39;00m \u001B[39mNone\u001B[39;00m \u001B[39mand\u001B[39;00m object_hook \u001B[39mis\u001B[39;00m \u001B[39mNone\u001B[39;00m \u001B[39mand\u001B[39;00m\n\u001B[1;32m    344\u001B[0m         parse_int \u001B[39mis\u001B[39;00m \u001B[39mNone\u001B[39;00m \u001B[39mand\u001B[39;00m parse_float \u001B[39mis\u001B[39;00m \u001B[39mNone\u001B[39;00m \u001B[39mand\u001B[39;00m\n\u001B[1;32m    345\u001B[0m         parse_constant \u001B[39mis\u001B[39;00m \u001B[39mNone\u001B[39;00m \u001B[39mand\u001B[39;00m object_pairs_hook \u001B[39mis\u001B[39;00m \u001B[39mNone\u001B[39;00m \u001B[39mand\u001B[39;00m \u001B[39mnot\u001B[39;00m kw):\n\u001B[0;32m--> 346\u001B[0m     \u001B[39mreturn\u001B[39;00m _default_decoder\u001B[39m.\u001B[39;49mdecode(s)\n\u001B[1;32m    347\u001B[0m \u001B[39mif\u001B[39;00m \u001B[39mcls\u001B[39m \u001B[39mis\u001B[39;00m \u001B[39mNone\u001B[39;00m:\n\u001B[1;32m    348\u001B[0m     \u001B[39mcls\u001B[39m \u001B[39m=\u001B[39m JSONDecoder\n",
      "File \u001B[0;32m~/miniconda3/lib/python3.11/json/decoder.py:337\u001B[0m, in \u001B[0;36mJSONDecoder.decode\u001B[0;34m(self, s, _w)\u001B[0m\n\u001B[1;32m    332\u001B[0m \u001B[39mdef\u001B[39;00m \u001B[39mdecode\u001B[39m(\u001B[39mself\u001B[39m, s, _w\u001B[39m=\u001B[39mWHITESPACE\u001B[39m.\u001B[39mmatch):\n\u001B[1;32m    333\u001B[0m \u001B[39m    \u001B[39m\u001B[39m\"\"\"Return the Python representation of ``s`` (a ``str`` instance\u001B[39;00m\n\u001B[1;32m    334\u001B[0m \u001B[39m    containing a JSON document).\u001B[39;00m\n\u001B[1;32m    335\u001B[0m \n\u001B[1;32m    336\u001B[0m \u001B[39m    \"\"\"\u001B[39;00m\n\u001B[0;32m--> 337\u001B[0m     obj, end \u001B[39m=\u001B[39m \u001B[39mself\u001B[39;49m\u001B[39m.\u001B[39;49mraw_decode(s, idx\u001B[39m=\u001B[39;49m_w(s, \u001B[39m0\u001B[39;49m)\u001B[39m.\u001B[39;49mend())\n\u001B[1;32m    338\u001B[0m     end \u001B[39m=\u001B[39m _w(s, end)\u001B[39m.\u001B[39mend()\n\u001B[1;32m    339\u001B[0m     \u001B[39mif\u001B[39;00m end \u001B[39m!=\u001B[39m \u001B[39mlen\u001B[39m(s):\n",
      "File \u001B[0;32m~/miniconda3/lib/python3.11/json/decoder.py:353\u001B[0m, in \u001B[0;36mJSONDecoder.raw_decode\u001B[0;34m(self, s, idx)\u001B[0m\n\u001B[1;32m    344\u001B[0m \u001B[39m\u001B[39m\u001B[39m\"\"\"Decode a JSON document from ``s`` (a ``str`` beginning with\u001B[39;00m\n\u001B[1;32m    345\u001B[0m \u001B[39ma JSON document) and return a 2-tuple of the Python\u001B[39;00m\n\u001B[1;32m    346\u001B[0m \u001B[39mrepresentation and the index in ``s`` where the document ended.\u001B[39;00m\n\u001B[0;32m   (...)\u001B[0m\n\u001B[1;32m    350\u001B[0m \n\u001B[1;32m    351\u001B[0m \u001B[39m\"\"\"\u001B[39;00m\n\u001B[1;32m    352\u001B[0m \u001B[39mtry\u001B[39;00m:\n\u001B[0;32m--> 353\u001B[0m     obj, end \u001B[39m=\u001B[39m \u001B[39mself\u001B[39;49m\u001B[39m.\u001B[39;49mscan_once(s, idx)\n\u001B[1;32m    354\u001B[0m \u001B[39mexcept\u001B[39;00m \u001B[39mStopIteration\u001B[39;00m \u001B[39mas\u001B[39;00m err:\n\u001B[1;32m    355\u001B[0m     \u001B[39mraise\u001B[39;00m JSONDecodeError(\u001B[39m\"\u001B[39m\u001B[39mExpecting value\u001B[39m\u001B[39m\"\u001B[39m, s, err\u001B[39m.\u001B[39mvalue) \u001B[39mfrom\u001B[39;00m \u001B[39mNone\u001B[39;00m\n",
      "\u001B[0;31mJSONDecodeError\u001B[0m: Expecting property name enclosed in double quotes: line 1 column 2 (char 1)"
     ]
    }
   ],
   "source": [
    "info = load_json(tmp)\n",
    "info"
   ]
  },
  {
   "cell_type": "code",
   "id": "83b9a06b",
   "metadata": {
    "ExecuteTime": {
     "end_time": "2025-05-04T21:09:42.507283Z",
     "start_time": "2025-05-04T21:09:42.475124Z"
    }
   },
   "source": "''.split()",
   "outputs": [
    {
     "data": {
      "text/plain": [
       "[]"
      ]
     },
     "execution_count": 2,
     "metadata": {},
     "output_type": "execute_result"
    }
   ],
   "execution_count": 2
  },
  {
   "cell_type": "code",
   "id": "a65e09d2",
   "metadata": {
    "ExecuteTime": {
     "end_time": "2025-05-04T18:43:16.848203Z",
     "start_time": "2025-05-04T18:43:16.841346Z"
    }
   },
   "source": [
    "c1, c2 = False, False\n",
    "o1 = 'a' if c1 else 'b' if c2 else 'c'\n",
    "c1, c2 = True, False\n",
    "o2 = 'a' if c1 else 'b' if c2 else 'c'\n",
    "c1, c2 = False, True\n",
    "o3 = 'a' if c1 else 'b' if c2 else 'c'\n",
    "c1, c2 = True, True\n",
    "o4 = 'a' if c1 else 'b' if c2 else 'c'\n",
    "print(o1, o2, o3, o4)"
   ],
   "outputs": [
    {
     "name": "stdout",
     "output_type": "stream",
     "text": [
      "c a b a\n"
     ]
    }
   ],
   "execution_count": 1
  },
  {
   "cell_type": "code",
   "execution_count": null,
   "id": "7428e8a0",
   "metadata": {},
   "outputs": [],
   "source": []
  }
 ],
 "metadata": {
  "kernelspec": {
   "display_name": "Python 3",
   "language": "python",
   "name": "python3"
  },
  "language_info": {
   "codemirror_mode": {
    "name": "ipython",
    "version": 3
   },
   "file_extension": ".py",
   "mimetype": "text/x-python",
   "name": "python",
   "nbconvert_exporter": "python",
   "pygments_lexer": "ipython3",
   "version": "3.11.4"
  }
 },
 "nbformat": 4,
 "nbformat_minor": 5
}
